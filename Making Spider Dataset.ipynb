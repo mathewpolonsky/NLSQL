{
 "cells": [
  {
   "cell_type": "markdown",
   "metadata": {},
   "source": [
    "## Загрузка датасета"
   ]
  },
  {
   "cell_type": "code",
   "execution_count": null,
   "metadata": {},
   "outputs": [],
   "source": [
    "!mkdir datasets\n",
    "!mkdir models"
   ]
  },
  {
   "cell_type": "markdown",
   "metadata": {},
   "source": [
    "Ссылка на скачивание датасета Spider на GitHub https://github.com/lumia-group/rasat\n",
    "\n",
    "На https://github.com/taoyds/spider содержится его препроцессинг"
   ]
  },
  {
   "cell_type": "code",
   "execution_count": 1,
   "metadata": {
    "id": "lkrlFHLYorM2"
   },
   "outputs": [],
   "source": [
    "!mkdir spider_data"
   ]
  },
  {
   "cell_type": "code",
   "execution_count": 2,
   "metadata": {
    "colab": {
     "base_uri": "https://localhost:8080/"
    },
    "id": "o9tmhSV24yUd",
    "outputId": "77df7d88-af66-4a77-f60f-8d6224be6375"
   },
   "outputs": [
    {
     "name": "stdout",
     "output_type": "stream",
     "text": [
      "Cloning into 'spider_data'...\n",
      "remote: Enumerating objects: 383, done.\u001b[K\n",
      "remote: Counting objects: 100% (27/27), done.\u001b[K\n",
      "remote: Compressing objects: 100% (14/14), done.\u001b[K\n",
      "remote: Total 383 (delta 17), reused 13 (delta 13), pack-reused 356\u001b[K\n",
      "Receiving objects: 100% (383/383), 44.93 MiB | 2.81 MiB/s, done.\n",
      "Resolving deltas: 100% (111/111), done.\n",
      "Updating files: 100% (261/261), done.\n"
     ]
    }
   ],
   "source": [
    "!git clone https://github.com/taoyds/spider spider_data"
   ]
  },
  {
   "cell_type": "code",
   "execution_count": 3,
   "metadata": {},
   "outputs": [
    {
     "name": "stderr",
     "output_type": "stream",
     "text": [
      "[nltk_data] Downloading package punkt to /home/mat/nltk_data...\n",
      "[nltk_data]   Unzipping tokenizers/punkt.zip.\n"
     ]
    },
    {
     "data": {
      "text/plain": [
       "True"
      ]
     },
     "execution_count": 3,
     "metadata": {},
     "output_type": "execute_result"
    }
   ],
   "source": [
    "import json\n",
    "import nltk\n",
    "from spider_data.process_sql import get_schema, Schema, get_sql\n",
    "\n",
    "nltk.download('punkt')"
   ]
  },
  {
   "cell_type": "code",
   "execution_count": 4,
   "metadata": {
    "id": "tHhbOJ3apGS7"
   },
   "outputs": [],
   "source": [
    "with open('datasets/spider/train_spider.json') as file:\n",
    "    spider_train = json.load(file)"
   ]
  },
  {
   "cell_type": "code",
   "execution_count": 5,
   "metadata": {
    "id": "znkvnfnFpy3Z"
   },
   "outputs": [
    {
     "data": {
      "text/plain": [
       "{'db_id': 'department_management',\n",
       " 'query': 'SELECT count(*) FROM head WHERE age  >  56',\n",
       " 'query_toks': ['SELECT',\n",
       "  'count',\n",
       "  '(',\n",
       "  '*',\n",
       "  ')',\n",
       "  'FROM',\n",
       "  'head',\n",
       "  'WHERE',\n",
       "  'age',\n",
       "  '>',\n",
       "  '56'],\n",
       " 'query_toks_no_value': ['select',\n",
       "  'count',\n",
       "  '(',\n",
       "  '*',\n",
       "  ')',\n",
       "  'from',\n",
       "  'head',\n",
       "  'where',\n",
       "  'age',\n",
       "  '>',\n",
       "  'value'],\n",
       " 'question': 'How many heads of the departments are older than 56 ?',\n",
       " 'question_toks': ['How',\n",
       "  'many',\n",
       "  'heads',\n",
       "  'of',\n",
       "  'the',\n",
       "  'departments',\n",
       "  'are',\n",
       "  'older',\n",
       "  'than',\n",
       "  '56',\n",
       "  '?'],\n",
       " 'sql': {'from': {'table_units': [['table_unit', 1]], 'conds': []},\n",
       "  'select': [False, [[3, [0, [0, 0, False], None]]]],\n",
       "  'where': [[False, 3, [0, [0, 10, False], None], 56.0, None]],\n",
       "  'groupBy': [],\n",
       "  'having': [],\n",
       "  'orderBy': [],\n",
       "  'limit': None,\n",
       "  'intersect': None,\n",
       "  'union': None,\n",
       "  'except': None}}"
      ]
     },
     "execution_count": 5,
     "metadata": {},
     "output_type": "execute_result"
    }
   ],
   "source": [
    "spider_train[0]"
   ]
  },
  {
   "cell_type": "code",
   "execution_count": 6,
   "metadata": {
    "id": "E4cOqMLv8O4w"
   },
   "outputs": [],
   "source": [
    "db_path = \"datasets/spider/database/\"\n",
    "\n",
    "def get_schema_by_name(name):\n",
    "    return get_schema(db_path + name + '/' + name + \".sqlite\")\n",
    "\n",
    "def get_schema_str(name):\n",
    "    schema_json = get_schema_by_name(name)\n",
    "\n",
    "    schema_str = \"\"\n",
    "\n",
    "    for header in schema_json:\n",
    "        schema_str += f\"header {header} : \"\n",
    "        schema_str += \" | \".join(schema_json[header])\n",
    "        schema_str += '\\n'\n",
    "\n",
    "    schema_str = schema_str[:-1]\n",
    "\n",
    "    return schema_str\n",
    "\n",
    "def make_schema(headers):\n",
    "    return Schema({\"table\" : headers})"
   ]
  },
  {
   "cell_type": "code",
   "execution_count": 10,
   "metadata": {
    "id": "6E9AO7D_mjAS"
   },
   "outputs": [],
   "source": [
    "spider_data_ready = []\n",
    "\n",
    "for sample in spider_train:\n",
    "    question = sample[\"question\"]\n",
    "\n",
    "    headers = get_schema_str(sample[\"db_id\"])\n",
    "\n",
    "    sentence = \"translate to SQL: \" + question + \"\\n\\n\" + headers\n",
    "\n",
    "    query = sample[\"query\"]\n",
    "\n",
    "    spider_data_ready.append({\"question\" : sentence, \"query\" : query})"
   ]
  },
  {
   "cell_type": "code",
   "execution_count": 11,
   "metadata": {
    "id": "K4r6bbYbnx2d"
   },
   "outputs": [],
   "source": [
    "with open(\"datasets/spider_dataset.json\", \"w\") as f:\n",
    "    json.dump(spider_data_ready, f)"
   ]
  },
  {
   "cell_type": "code",
   "execution_count": 15,
   "metadata": {},
   "outputs": [
    {
     "data": {
      "text/plain": [
       "{'question': 'translate to SQL: How many heads of the departments are older than 56 ?\\n\\nheader department : department_id | name | creation | ranking | budget_in_billions | num_employees\\nheader head : head_id | name | born_state | age\\nheader management : department_id | head_id | temporary_acting',\n",
       " 'query': 'SELECT count(*) FROM head WHERE age  >  56'}"
      ]
     },
     "execution_count": 15,
     "metadata": {},
     "output_type": "execute_result"
    }
   ],
   "source": [
    "spider_data_ready[0]"
   ]
  }
 ],
 "metadata": {
  "colab": {
   "provenance": []
  },
  "gpuClass": "standard",
  "kernelspec": {
   "display_name": "Python 3 (ipykernel)",
   "language": "python",
   "name": "python3"
  },
  "language_info": {
   "codemirror_mode": {
    "name": "ipython",
    "version": 3
   },
   "file_extension": ".py",
   "mimetype": "text/x-python",
   "name": "python",
   "nbconvert_exporter": "python",
   "pygments_lexer": "ipython3",
   "version": "3.10.6"
  },
  "vscode": {
   "interpreter": {
    "hash": "5c0786e2421975a053cdce6b73e16481e7c66c0a38f9a3a74ec3d9bfdf9639f9"
   }
  }
 },
 "nbformat": 4,
 "nbformat_minor": 4
}
